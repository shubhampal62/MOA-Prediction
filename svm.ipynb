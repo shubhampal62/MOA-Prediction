{
 "cells": [
  {
   "cell_type": "code",
   "execution_count": 2,
   "metadata": {},
   "outputs": [],
   "source": [
    "import numpy as np\n",
    "import pandas as pd\n",
    "from sklearn.svm import SVC  # for classification\n",
    "from sklearn.metrics import accuracy_score  # for classification accuracy\n",
    "from sklearn.model_selection import KFold\n",
    "from sklearn.preprocessing import StandardScaler\n",
    "from sklearn.model_selection import train_test_split\n",
    "from sklearn.decomposition import PCA\n",
    "from scipy.stats import skew,boxcox\n",
    "import matplotlib.pyplot as plt"
   ]
  },
  {
   "cell_type": "code",
   "execution_count": 3,
   "metadata": {},
   "outputs": [],
   "source": [
    "train_features = pd.read_csv('train_features.csv')\n",
    "train_targets = pd.read_csv('train_targets_scored.csv')\n",
    "train_features = train_features.drop('sig_id',axis=1)\n",
    "train_targets = train_targets.drop('sig_id',axis=1)"
   ]
  },
  {
   "cell_type": "code",
   "execution_count": 4,
   "metadata": {},
   "outputs": [],
   "source": [
    "\n",
    "train_features, test_features, train_scored, test_scored = train_test_split(train_features, train_targets, test_size=0.2, random_state=42)\n"
   ]
  },
  {
   "cell_type": "code",
   "execution_count": 5,
   "metadata": {},
   "outputs": [],
   "source": [
    "\n",
    "train_features = train_features[:5000]"
   ]
  },
  {
   "cell_type": "code",
   "execution_count": 6,
   "metadata": {},
   "outputs": [],
   "source": [
    "test_features = test_features[:5000]\n",
    "train_scored = train_scored[:5000]\n",
    "test_scored = test_scored[:5000]"
   ]
  },
  {
   "cell_type": "markdown",
   "metadata": {},
   "source": [
    "PREPROCESSING"
   ]
  },
  {
   "cell_type": "code",
   "execution_count": 7,
   "metadata": {},
   "outputs": [],
   "source": [
    "def remove_skewness(data) :\n",
    "    columns = data.columns\n",
    "\n",
    "    # removing the skewness from the data set\n",
    "    skew_threshold = 0.5\n",
    "\n",
    "    for col in columns : \n",
    "        skewness_before = skew(data[col])\n",
    "\n",
    "        if abs(skewness_before) > skew_threshold:\n",
    "            # Apply Box-Cox transformation and find the best lambda\n",
    "            min_value = data[col].min()\n",
    "            if (min_value<=0):\n",
    "                data[col] += (-min_value+1)\n",
    "            transformed_data, lambda_best_fit = boxcox(data[col])  # Adding 1 to avoid zero values\n",
    "            data[col] = transformed_data  # Replace the original feature with the transformed data\n",
    "        \n",
    "        skewness_after = skew(data[col])\n",
    "\n",
    "    return data\n",
    "\n",
    "\n",
    "def oneHotEncoding(data):\n",
    "    # performing one hot encoding on discrete features\n",
    "    discrete_features = ['cp_dose','cp_time','cp_type']\n",
    "    data = pd.get_dummies(data,columns=discrete_features,dtype=int)\n",
    "    return data "
   ]
  },
  {
   "cell_type": "markdown",
   "metadata": {},
   "source": [
    "TRAINING"
   ]
  },
  {
   "cell_type": "code",
   "execution_count": 8,
   "metadata": {},
   "outputs": [],
   "source": [
    "def cross_entropy(predicted_probabilities,true_labels):\n",
    "    # Compute cross-entropy loss\n",
    "    epsilon = 1e-15  # A small constant to prevent numerical instability (avoid log(0))\n",
    "    predicted_probabilities = np.clip(predicted_probabilities, epsilon, 1 - epsilon)  # Clip probabilities\n",
    "    cross_entropy_loss = -np.mean(true_labels * np.log(predicted_probabilities) + (1 - true_labels) * np.log(1 - predicted_probabilities))\n",
    "    return cross_entropy_loss"
   ]
  },
  {
   "cell_type": "code",
   "execution_count": 9,
   "metadata": {},
   "outputs": [
    {
     "name": "stdout",
     "output_type": "stream",
     "text": [
      "---------------------------------------1----------------------------------------\n",
      "cross validation score for training : [0.019242567477756704, 0.019403216376670848, 0.01916953840152598]\n",
      "cross validation scores : [0.019318324683340705, 0.019583528145884634, 0.019675147907895655]\n",
      "mean loss : 0.019525666912373663\n",
      "std dev of loss : 0.0001513090549240335\n",
      "---------------------------------------------------------------------------------\n",
      "---------------------------------------2----------------------------------------\n",
      "cross validation score for training : [0.018909481125669814, 0.018883789377713282, 0.018669998956540756]\n",
      "cross validation scores : [0.01915233772918148, 0.019082233208511372, 0.0192924789306243]\n",
      "mean loss : 0.01917568328943905\n",
      "std dev of loss : 8.740548153863772e-05\n",
      "---------------------------------------------------------------------------------\n",
      "---------------------------------------3----------------------------------------\n",
      "cross validation score for training : [0.01817640744086516, 0.017894736879142743, 0.017997605059374925]\n",
      "cross validation scores : [0.018572626786789812, 0.01857990682261804, 0.018904082837207216]\n",
      "mean loss : 0.018685538815538357\n",
      "std dev of loss : 0.00015456253704313215\n",
      "---------------------------------------------------------------------------------\n"
     ]
    },
    {
     "ename": "KeyboardInterrupt",
     "evalue": "",
     "output_type": "error",
     "traceback": [
      "\u001b[1;31m---------------------------------------------------------------------------\u001b[0m",
      "\u001b[1;31mKeyboardInterrupt\u001b[0m                         Traceback (most recent call last)",
      "\u001b[1;32md:\\ML\\Project\\svm.ipynb Cell 10\u001b[0m line \u001b[0;36m7\n\u001b[0;32m     <a href='vscode-notebook-cell:/d%3A/ML/Project/svm.ipynb#X12sZmlsZQ%3D%3D?line=68'>69</a>\u001b[0m     y_train_pred \u001b[39m=\u001b[39m [\u001b[39m0.001\u001b[39m \u001b[39mfor\u001b[39;00m x \u001b[39min\u001b[39;00m \u001b[39mrange\u001b[39m(\u001b[39mlen\u001b[39m(X_train))]\n\u001b[0;32m     <a href='vscode-notebook-cell:/d%3A/ML/Project/svm.ipynb#X12sZmlsZQ%3D%3D?line=69'>70</a>\u001b[0m \u001b[39m# Train a classifier on the transformed training data\u001b[39;00m\n\u001b[0;32m     <a href='vscode-notebook-cell:/d%3A/ML/Project/svm.ipynb#X12sZmlsZQ%3D%3D?line=70'>71</a>\u001b[0m \u001b[39melse\u001b[39;00m:\n\u001b[1;32m---> <a href='vscode-notebook-cell:/d%3A/ML/Project/svm.ipynb#X12sZmlsZQ%3D%3D?line=71'>72</a>\u001b[0m     clf\u001b[39m.\u001b[39;49mfit(X_train, y_train[col])\n\u001b[0;32m     <a href='vscode-notebook-cell:/d%3A/ML/Project/svm.ipynb#X12sZmlsZQ%3D%3D?line=73'>74</a>\u001b[0m     y_train_pred \u001b[39m=\u001b[39m clf\u001b[39m.\u001b[39mpredict_proba(X_train)\n\u001b[0;32m     <a href='vscode-notebook-cell:/d%3A/ML/Project/svm.ipynb#X12sZmlsZQ%3D%3D?line=74'>75</a>\u001b[0m     y_train_pred \u001b[39m=\u001b[39m [row[\u001b[39m1\u001b[39m] \u001b[39mfor\u001b[39;00m row \u001b[39min\u001b[39;00m y_train_pred]\n",
      "File \u001b[1;32mc:\\Users\\Admin\\AppData\\Local\\Programs\\Python\\Python310\\lib\\site-packages\\sklearn\\base.py:1151\u001b[0m, in \u001b[0;36m_fit_context.<locals>.decorator.<locals>.wrapper\u001b[1;34m(estimator, *args, **kwargs)\u001b[0m\n\u001b[0;32m   1144\u001b[0m     estimator\u001b[39m.\u001b[39m_validate_params()\n\u001b[0;32m   1146\u001b[0m \u001b[39mwith\u001b[39;00m config_context(\n\u001b[0;32m   1147\u001b[0m     skip_parameter_validation\u001b[39m=\u001b[39m(\n\u001b[0;32m   1148\u001b[0m         prefer_skip_nested_validation \u001b[39mor\u001b[39;00m global_skip_validation\n\u001b[0;32m   1149\u001b[0m     )\n\u001b[0;32m   1150\u001b[0m ):\n\u001b[1;32m-> 1151\u001b[0m     \u001b[39mreturn\u001b[39;00m fit_method(estimator, \u001b[39m*\u001b[39margs, \u001b[39m*\u001b[39m\u001b[39m*\u001b[39mkwargs)\n",
      "File \u001b[1;32mc:\\Users\\Admin\\AppData\\Local\\Programs\\Python\\Python310\\lib\\site-packages\\sklearn\\svm\\_base.py:250\u001b[0m, in \u001b[0;36mBaseLibSVM.fit\u001b[1;34m(self, X, y, sample_weight)\u001b[0m\n\u001b[0;32m    247\u001b[0m     \u001b[39mprint\u001b[39m(\u001b[39m\"\u001b[39m\u001b[39m[LibSVM]\u001b[39m\u001b[39m\"\u001b[39m, end\u001b[39m=\u001b[39m\u001b[39m\"\u001b[39m\u001b[39m\"\u001b[39m)\n\u001b[0;32m    249\u001b[0m seed \u001b[39m=\u001b[39m rnd\u001b[39m.\u001b[39mrandint(np\u001b[39m.\u001b[39miinfo(\u001b[39m\"\u001b[39m\u001b[39mi\u001b[39m\u001b[39m\"\u001b[39m)\u001b[39m.\u001b[39mmax)\n\u001b[1;32m--> 250\u001b[0m fit(X, y, sample_weight, solver_type, kernel, random_seed\u001b[39m=\u001b[39;49mseed)\n\u001b[0;32m    251\u001b[0m \u001b[39m# see comment on the other call to np.iinfo in this file\u001b[39;00m\n\u001b[0;32m    253\u001b[0m \u001b[39mself\u001b[39m\u001b[39m.\u001b[39mshape_fit_ \u001b[39m=\u001b[39m X\u001b[39m.\u001b[39mshape \u001b[39mif\u001b[39;00m \u001b[39mhasattr\u001b[39m(X, \u001b[39m\"\u001b[39m\u001b[39mshape\u001b[39m\u001b[39m\"\u001b[39m) \u001b[39melse\u001b[39;00m (n_samples,)\n",
      "File \u001b[1;32mc:\\Users\\Admin\\AppData\\Local\\Programs\\Python\\Python310\\lib\\site-packages\\sklearn\\svm\\_base.py:329\u001b[0m, in \u001b[0;36mBaseLibSVM._dense_fit\u001b[1;34m(self, X, y, sample_weight, solver_type, kernel, random_seed)\u001b[0m\n\u001b[0;32m    315\u001b[0m libsvm\u001b[39m.\u001b[39mset_verbosity_wrap(\u001b[39mself\u001b[39m\u001b[39m.\u001b[39mverbose)\n\u001b[0;32m    317\u001b[0m \u001b[39m# we don't pass **self.get_params() to allow subclasses to\u001b[39;00m\n\u001b[0;32m    318\u001b[0m \u001b[39m# add other parameters to __init__\u001b[39;00m\n\u001b[0;32m    319\u001b[0m (\n\u001b[0;32m    320\u001b[0m     \u001b[39mself\u001b[39m\u001b[39m.\u001b[39msupport_,\n\u001b[0;32m    321\u001b[0m     \u001b[39mself\u001b[39m\u001b[39m.\u001b[39msupport_vectors_,\n\u001b[0;32m    322\u001b[0m     \u001b[39mself\u001b[39m\u001b[39m.\u001b[39m_n_support,\n\u001b[0;32m    323\u001b[0m     \u001b[39mself\u001b[39m\u001b[39m.\u001b[39mdual_coef_,\n\u001b[0;32m    324\u001b[0m     \u001b[39mself\u001b[39m\u001b[39m.\u001b[39mintercept_,\n\u001b[0;32m    325\u001b[0m     \u001b[39mself\u001b[39m\u001b[39m.\u001b[39m_probA,\n\u001b[0;32m    326\u001b[0m     \u001b[39mself\u001b[39m\u001b[39m.\u001b[39m_probB,\n\u001b[0;32m    327\u001b[0m     \u001b[39mself\u001b[39m\u001b[39m.\u001b[39mfit_status_,\n\u001b[0;32m    328\u001b[0m     \u001b[39mself\u001b[39m\u001b[39m.\u001b[39m_num_iter,\n\u001b[1;32m--> 329\u001b[0m ) \u001b[39m=\u001b[39m libsvm\u001b[39m.\u001b[39;49mfit(\n\u001b[0;32m    330\u001b[0m     X,\n\u001b[0;32m    331\u001b[0m     y,\n\u001b[0;32m    332\u001b[0m     svm_type\u001b[39m=\u001b[39;49msolver_type,\n\u001b[0;32m    333\u001b[0m     sample_weight\u001b[39m=\u001b[39;49msample_weight,\n\u001b[0;32m    334\u001b[0m     \u001b[39m# TODO(1.4): Replace \"_class_weight\" with \"class_weight_\"\u001b[39;49;00m\n\u001b[0;32m    335\u001b[0m     class_weight\u001b[39m=\u001b[39;49m\u001b[39mgetattr\u001b[39;49m(\u001b[39mself\u001b[39;49m, \u001b[39m\"\u001b[39;49m\u001b[39m_class_weight\u001b[39;49m\u001b[39m\"\u001b[39;49m, np\u001b[39m.\u001b[39;49mempty(\u001b[39m0\u001b[39;49m)),\n\u001b[0;32m    336\u001b[0m     kernel\u001b[39m=\u001b[39;49mkernel,\n\u001b[0;32m    337\u001b[0m     C\u001b[39m=\u001b[39;49m\u001b[39mself\u001b[39;49m\u001b[39m.\u001b[39;49mC,\n\u001b[0;32m    338\u001b[0m     nu\u001b[39m=\u001b[39;49m\u001b[39mself\u001b[39;49m\u001b[39m.\u001b[39;49mnu,\n\u001b[0;32m    339\u001b[0m     probability\u001b[39m=\u001b[39;49m\u001b[39mself\u001b[39;49m\u001b[39m.\u001b[39;49mprobability,\n\u001b[0;32m    340\u001b[0m     degree\u001b[39m=\u001b[39;49m\u001b[39mself\u001b[39;49m\u001b[39m.\u001b[39;49mdegree,\n\u001b[0;32m    341\u001b[0m     shrinking\u001b[39m=\u001b[39;49m\u001b[39mself\u001b[39;49m\u001b[39m.\u001b[39;49mshrinking,\n\u001b[0;32m    342\u001b[0m     tol\u001b[39m=\u001b[39;49m\u001b[39mself\u001b[39;49m\u001b[39m.\u001b[39;49mtol,\n\u001b[0;32m    343\u001b[0m     cache_size\u001b[39m=\u001b[39;49m\u001b[39mself\u001b[39;49m\u001b[39m.\u001b[39;49mcache_size,\n\u001b[0;32m    344\u001b[0m     coef0\u001b[39m=\u001b[39;49m\u001b[39mself\u001b[39;49m\u001b[39m.\u001b[39;49mcoef0,\n\u001b[0;32m    345\u001b[0m     gamma\u001b[39m=\u001b[39;49m\u001b[39mself\u001b[39;49m\u001b[39m.\u001b[39;49m_gamma,\n\u001b[0;32m    346\u001b[0m     epsilon\u001b[39m=\u001b[39;49m\u001b[39mself\u001b[39;49m\u001b[39m.\u001b[39;49mepsilon,\n\u001b[0;32m    347\u001b[0m     max_iter\u001b[39m=\u001b[39;49m\u001b[39mself\u001b[39;49m\u001b[39m.\u001b[39;49mmax_iter,\n\u001b[0;32m    348\u001b[0m     random_seed\u001b[39m=\u001b[39;49mrandom_seed,\n\u001b[0;32m    349\u001b[0m )\n\u001b[0;32m    351\u001b[0m \u001b[39mself\u001b[39m\u001b[39m.\u001b[39m_warn_from_fit_status()\n",
      "\u001b[1;31mKeyboardInterrupt\u001b[0m: "
     ]
    }
   ],
   "source": [
    "# \n",
    "kfold = 3\n",
    "\n",
    "# Initialize a KFold object\n",
    "kf = KFold(n_splits=kfold, shuffle=True, random_state=42)\n",
    "\n",
    "\n",
    "penalty = [0.01,0.5,1,3,5]\n",
    "\n",
    "# Initialize a list to store the cross-validation accuracies\n",
    "\n",
    "\n",
    "# Perform k-fold cross-validation with PCA\n",
    "itr = 0\n",
    "\n",
    "pc = [5,10,20,40,60,80]\n",
    "contamination = [0.001,0.005,0.01,0.005,0.1,0.2]\n",
    "neighbour = [5,10,25,50,100,200,300]\n",
    "avg_training = []\n",
    "avg_validation = []\n",
    "\n",
    "for i in range(len(penalty)):\n",
    "    cross_val_scores = []\n",
    "    train_cross_val_score = []\n",
    "    for train_index, test_index in kf.split(train_features):\n",
    "\n",
    "        # Split the data into training and testing sets for this fold\n",
    "        X_train, X_test = train_features.iloc[train_index], train_features.iloc[test_index]\n",
    "        y_train, y_test = train_scored.iloc[train_index], train_scored.iloc[test_index]\n",
    "\n",
    "        X_train = oneHotEncoding(X_train)\n",
    "        X_test = oneHotEncoding(X_test)\n",
    "        \n",
    "        # lof_model = LocalOutlierFactor(n_neighbors=5, contamination=contamination[itr])\n",
    "\n",
    "        # # Fit the model and identify outliers\n",
    "        # outlier_scores = lof_model.fit_predict(X_train)\n",
    "        # outlier_indices = X_train.index[outlier_scores == -1]\n",
    "\n",
    "        # X_train = X_train.drop(outlier_indices)\n",
    "        # y_train  = y_train.drop(outlier_indices)\n",
    "\n",
    "        # X_train = X_train.reset_index(drop=True)\n",
    "        # y_train = y_train.reset_index(drop=True)\n",
    "\n",
    "        # X_train = remove_skewness(X_train)\n",
    "        \n",
    "        # X_test = remove_skewness(X_test)\n",
    "\n",
    "        scaler = StandardScaler()\n",
    "        scaler.fit(X_train)\n",
    "        X_train = scaler.transform(X_train)\n",
    "        X_test = scaler.transform(X_test)\n",
    "\n",
    "        # Initialize a PCA object (you can adjust the number of components)\n",
    "        pca = PCA(n_components=pc[itr])\n",
    "        pca.fit(X_train)\n",
    "        X_train = pca.transform(X_train)\n",
    "        X_test  = pca.transform(X_test)\n",
    "\n",
    "        clf = SVC(kernel='linear',probability=True, C = 0.5)  # You can choose different kernels like 'linear', 'rbf', etc.\n",
    "\n",
    "        test_columns = y_train.columns\n",
    "        loss = 0\n",
    "        loss_train = 0\n",
    "        for col in test_columns:\n",
    "            if (y_train[col].unique().shape[0]==1):\n",
    "                y_pred = [0.001 for x in range(len(X_test))]\n",
    "                y_train_pred = [0.001 for x in range(len(X_train))]\n",
    "            # Train a classifier on the transformed training data\n",
    "            else:\n",
    "                clf.fit(X_train, y_train[col])\n",
    "            \n",
    "                y_train_pred = clf.predict_proba(X_train)\n",
    "                y_train_pred = [row[1] for row in y_train_pred]\n",
    "                # Make predictions on the transformed test data\n",
    "                y_pred = clf.predict_proba(X_test)\n",
    "\n",
    "                # print(y_pred)\n",
    "                y_pred = [row[1] for row in y_pred]\n",
    "                \n",
    "                # print(y_pred)\n",
    "                # print(y_train_pred)\n",
    "            \n",
    "            loss += cross_entropy(y_pred,y_test[col].values)\n",
    "\n",
    "            loss_train += cross_entropy(y_train_pred,y_train[col].values)\n",
    "        cross_val_scores.append(loss/test_columns.shape[0])\n",
    "        train_cross_val_score.append(loss_train/test_columns.shape[0])\n",
    "\n",
    "    itr += 1\n",
    "    print(f\"---------------------------------------{itr}----------------------------------------\")\n",
    "    # Calculate the mean and standard deviation of cross-validation scores\n",
    "    print(f\"cross validation score for training : {train_cross_val_score}\")\n",
    "    print(f\"cross validation scores : {cross_val_scores}\")\n",
    "    mean_accuracy = np.mean(cross_val_scores)\n",
    "    std_accuracy = np.std(cross_val_scores)\n",
    "    print(f\"mean loss : {mean_accuracy}\")\n",
    "    print(f\"std dev of loss : {std_accuracy}\")\n",
    "    print(\"---------------------------------------------------------------------------------\")\n",
    "\n",
    "\n",
    "    avg_training.append(np.mean(train_cross_val_score))\n",
    "    avg_validation.append(np.mean(cross_val_scores))"
   ]
  },
  {
   "cell_type": "code",
   "execution_count": null,
   "metadata": {},
   "outputs": [
    {
     "data": {
      "image/png": "[encoded data removed]",
      "text/plain": [
       "<Figure size 640x480 with 1 Axes>"
      ]
     },
     "metadata": {},
     "output_type": "display_data"
    }
   ],
   "source": [
    "plt.plot(penalty,avg_training,label = 'training loss')\n",
    "plt.plot(penalty,avg_validation,label = 'validation loss')\n",
    "plt.xlabel('svm penalty')\n",
    "plt.ylabel('loss')\n",
    "plt.legend()\n",
    "plt.show()"
   ]
  },
  {
   "cell_type": "code",
   "execution_count": null,
   "metadata": {},
   "outputs": [
    {
     "name": "stdout",
     "output_type": "stream",
     "text": [
      "3.674898734983465\n",
      "2.7720958491049847\n",
      "Test Loss : 0.01783931424749255\n",
      "Training Loss : 0.013456775966529052\n"
     ]
    }
   ],
   "source": [
    "# clf = LogisticRegression(penalty = 'l1', C = 0.5, max_iter=10000,solver='liblinear')\n",
    "clf = SVC(kernel='rbf',probability=True,C=0.5)  # You can choose different kernels like 'linear', 'rbf', etc.\n",
    "X_train = train_features\n",
    "y_train = train_scored\n",
    "\n",
    "X_test = test_features\n",
    "y_test = test_scored\n",
    "\n",
    "X_train = oneHotEncoding(X_train)\n",
    "X_test = oneHotEncoding(X_test)\n",
    "\n",
    "scaler = StandardScaler()\n",
    "scaler.fit(X_train)\n",
    "X_train = scaler.transform(X_train)\n",
    "X_test = scaler.transform(X_test)\n",
    "\n",
    "pca = PCA(n_components=50)\n",
    "pca.fit(X_train)\n",
    "X_train = pca.transform(X_train)\n",
    "X_test  = pca.transform(X_test)\n",
    "\n",
    "test_columns = y_test.columns\n",
    "loss = 0\n",
    "loss_train = 0\n",
    "for col in test_columns:\n",
    "    if (y_train[col].unique().shape[0]==1):\n",
    "        y_pred = [0.001 for x in range(len(X_test))]\n",
    "        # Train a classifier on the transformed training data\n",
    "        y_train_pred = [0.001 for x in range(len(X_train))]\n",
    "    else:\n",
    "        clf.fit(X_train, y_train[col])\n",
    "        y_train_pred = clf.predict_proba(X_train)\n",
    "        y_train_pred = [row[1] for row in y_train_pred]\n",
    "        \n",
    "        # Make predictions on the transformed test data\n",
    "        y_pred = clf.predict_proba(X_test)\n",
    "        y_pred = [row[1] for row in y_pred]\n",
    "\n",
    "\n",
    "        \n",
    "    \n",
    "    loss += cross_entropy(y_pred,y_test[col].values)\n",
    "\n",
    "    loss_train += cross_entropy(y_train_pred,y_train[col].values)\n",
    "print(loss)\n",
    "print(loss_train)\n",
    "print(f\"Test Loss : {loss/test_columns.shape[0]}\")\n",
    "print(f\"Training Loss : {loss_train/test_columns.shape[0]}\")"
   ]
  },
  {
   "cell_type": "code",
   "execution_count": null,
   "metadata": {},
   "outputs": [],
   "source": []
  }
 ],
 "metadata": {
  "kernelspec": {
   "display_name": "Python 3",
   "language": "python",
   "name": "python3"
  },
  "language_info": {
   "codemirror_mode": {
    "name": "ipython",
    "version": 3
   },
   "file_extension": ".py",
   "mimetype": "text/x-python",
   "name": "python",
   "nbconvert_exporter": "python",
   "pygments_lexer": "ipython3",
   "version": "3.10.11"
  }
 },
 "nbformat": 4,
 "nbformat_minor": 2
}
