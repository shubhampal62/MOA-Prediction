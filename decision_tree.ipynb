{
 "cells": [
  {
   "cell_type": "code",
   "execution_count": 4,
   "metadata": {},
   "outputs": [],
   "source": [
    "import pandas as pd\n",
    "import numpy as np\n",
    "from sklearn.model_selection import train_test_split\n",
    "from sklearn.naive_bayes import GaussianNB\n",
    "from sklearn.metrics import accuracy_score, classification_report\n",
    "from scipy.stats import skew,boxcox\n",
    "from sklearn.model_selection import train_test_split\n",
    "from sklearn.preprocessing import StandardScaler\n",
    "import matplotlib.pyplot as plt\n",
    "from sklearn.neighbors import LocalOutlierFactor\n",
    "from sklearn.decomposition import PCA\n",
    "from sklearn.model_selection import KFold\n",
    "from sklearn.linear_model import LogisticRegression\n",
    "import matplotlib.pyplot as plt\n",
    "from sklearn.tree import DecisionTreeClassifier"
   ]
  },
  {
   "cell_type": "code",
   "execution_count": 87,
   "metadata": {},
   "outputs": [],
   "source": [
    "train_features = pd.read_csv('lish-moa/train_features.csv')\n",
    "train_targets = pd.read_csv('lish-moa/train_targets_scored.csv')\n",
    "train_features = train_features.drop('sig_id',axis=1)\n",
    "train_targets = train_targets.drop('sig_id',axis=1)"
   ]
  },
  {
   "cell_type": "code",
   "execution_count": 88,
   "metadata": {},
   "outputs": [],
   "source": [
    "\n",
    "train_features, test_features, train_scored, test_scored = train_test_split(train_features, train_targets, test_size=0.5, random_state=42)\n",
    "val_features , test_features, val_scored, test_scored = train_test_split(test_features, test_scored, test_size=0.5, random_state=42)\n"
   ]
  },
  {
   "cell_type": "code",
   "execution_count": 48,
   "metadata": {},
   "outputs": [
    {
     "data": {
      "text/plain": [
       "(2382, 875)"
      ]
     },
     "execution_count": 48,
     "metadata": {},
     "output_type": "execute_result"
    }
   ],
   "source": [
    "test_features.shape"
   ]
  },
  {
   "cell_type": "code",
   "execution_count": 89,
   "metadata": {},
   "outputs": [],
   "source": [
    "train_features_index = train_features.sample(n = 5000,replace = False).index\n",
    "train_features = train_features.loc[train_features_index]\n",
    "train_scored = train_scored.loc[train_features_index]"
   ]
  },
  {
   "cell_type": "code",
   "execution_count": 90,
   "metadata": {},
   "outputs": [],
   "source": [
    "train_features = train_features.reset_index(drop=True)\n",
    "train_targets = train_targets.reset_index(drop=True)\n",
    "train_scored = train_scored.reset_index(drop=True)\n",
    "test_scored = test_scored.reset_index(drop = True)"
   ]
  },
  {
   "cell_type": "code",
   "execution_count": 51,
   "metadata": {},
   "outputs": [
    {
     "data": {
      "text/plain": [
       "(5000, 875)"
      ]
     },
     "execution_count": 51,
     "metadata": {},
     "output_type": "execute_result"
    }
   ],
   "source": [
    "train_features.shape"
   ]
  },
  {
   "cell_type": "code",
   "execution_count": 9,
   "metadata": {},
   "outputs": [],
   "source": [
    "def oneHotEncoding(data):\n",
    "    # performing one hot encoding on discrete features\n",
    "    discrete_features = ['cp_dose','cp_time','cp_type']\n",
    "    data = pd.get_dummies(data,columns=discrete_features,dtype=int)\n",
    "    return data \n"
   ]
  },
  {
   "cell_type": "code",
   "execution_count": 10,
   "metadata": {},
   "outputs": [],
   "source": [
    "def cross_entropy(predicted_probabilities,true_labels):\n",
    "    # Compute cross-entropy loss\n",
    "    epsilon = 1e-15  # A small constant to prevent numerical instability (avoid log(0))\n",
    "    predicted_probabilities = np.clip(predicted_probabilities, epsilon, 1 - epsilon)  # Clip probabilities\n",
    "    cross_entropy_loss = -np.mean(true_labels * np.log(predicted_probabilities) + (1 - true_labels) * np.log(1 - predicted_probabilities))\n",
    "    return cross_entropy_loss"
   ]
  },
  {
   "cell_type": "code",
   "execution_count": 96,
   "metadata": {},
   "outputs": [
    {
     "name": "stdout",
     "output_type": "stream",
     "text": [
      "---------------------------------------1----------------------------------------\n",
      "cross validation score for training : [0.005139859991508038, 0.005122529354017854, 0.005131994581440758]\n",
      "cross validation scores : [0.14161212599607392, 0.14074809666069907, 0.1409330558513765]\n",
      "mean loss : 0.1410977595027165\n",
      "std dev of loss : 0.00037146748863628627\n",
      "---------------------------------------------------------------------------------\n",
      "---------------------------------------2----------------------------------------\n",
      "cross validation score for training : [0.008072681428072707, 0.008087978362486134, 0.008065866750633453]\n",
      "cross validation scores : [0.12161316675737593, 0.12064505435458453, 0.1205452870082275]\n",
      "mean loss : 0.12093450270672933\n",
      "std dev of loss : 0.0004816132965217573\n",
      "---------------------------------------------------------------------------------\n",
      "---------------------------------------3----------------------------------------\n",
      "cross validation score for training : [0.009815198447890906, 0.00976985903484952, 0.009771147151887686]\n",
      "cross validation scores : [0.10932039415061562, 0.1099001014247929, 0.11039644048877449]\n",
      "mean loss : 0.10987231202139434\n",
      "std dev of loss : 0.0004397333424339618\n",
      "---------------------------------------------------------------------------------\n",
      "---------------------------------------4----------------------------------------\n",
      "cross validation score for training : [0.011851428845964617, 0.011855407753368285, 0.011858250386480295]\n",
      "cross validation scores : [0.09062007859321126, 0.08952393313380073, 0.08994528195120613]\n",
      "mean loss : 0.09002976455940603\n",
      "std dev of loss : 0.0004514692314084284\n",
      "---------------------------------------------------------------------------------\n",
      "---------------------------------------5----------------------------------------\n",
      "cross validation score for training : [0.013757305659552497, 0.013744149509851545, 0.013778033156655397]\n",
      "cross validation scores : [0.06855377584618552, 0.06856866713979497, 0.06788502695017565]\n",
      "mean loss : 0.06833582331205204\n",
      "std dev of loss : 0.0003188191311355995\n",
      "---------------------------------------------------------------------------------\n",
      "---------------------------------------6----------------------------------------\n",
      "cross validation score for training : [0.016209602995204114, 0.016216441974519553, 0.016208625067117777]\n",
      "cross validation scores : [0.04437561029036264, 0.04421952482020099, 0.04426392342181069]\n",
      "mean loss : 0.04428635284412477\n",
      "std dev of loss : 6.566570763040988e-05\n",
      "---------------------------------------------------------------------------------\n",
      "---------------------------------------7----------------------------------------\n",
      "cross validation score for training : [0.01753542404488264, 0.01753532115931173, 0.01753544223558775]\n",
      "cross validation scores : [0.03293757043565609, 0.03299383702101521, 0.032937699578021416]\n",
      "mean loss : 0.032956369011564235\n",
      "std dev of loss : 2.6493936018155598e-05\n",
      "---------------------------------------------------------------------------------\n",
      "---------------------------------------8----------------------------------------\n",
      "cross validation score for training : [0.017865673262704055, 0.017865696204778854, 0.017865834437707635]\n",
      "cross validation scores : [0.02894573545583677, 0.02894574304281955, 0.028945689177943327]\n",
      "mean loss : 0.028945722558866547\n",
      "std dev of loss : 2.3806233123572253e-08\n",
      "---------------------------------------------------------------------------------\n"
     ]
    }
   ],
   "source": [
    "kfold = 3\n",
    "\n",
    "# Initialize a KFold object\n",
    "kf = KFold(n_splits=kfold, shuffle=True, random_state=42)\n",
    "\n",
    "\n",
    "criterion = ['gini','entropy']\n",
    "max_depth = [x for x in range(10,train_features.shape[1],10)]\n",
    "min_sample_split = [0.01,0.03,0.05,0.1,0.2,0.5,0.8,1.0]\n",
    "max_feature = [x for x in range(1,train_features.shape[1],15)]\n",
    "\n",
    "# Initialize a list to store the cross-validation accuracies\n",
    "\n",
    "\n",
    "# Perform k-fold cross-validation with PCA\n",
    "itr = 0\n",
    "\n",
    "pc = [4,10,15,40,60,80]\n",
    "\n",
    "neighbour = [5,10,25,50,100,200,300]\n",
    "avg_training = []\n",
    "avg_validation = []\n",
    "\n",
    "for i in range(len(min_sample_split)):\n",
    "    cross_val_scores = []\n",
    "    train_cross_val_score = []\n",
    "    for train_index, test_index in kf.split(train_features):\n",
    "\n",
    "\n",
    "        # clf = LogisticRegression(penalty = 'l1', C = 0.5, max_iter=10000,solver='liblinear')\n",
    "        clf = DecisionTreeClassifier(criterion='entropy',min_samples_split=min_sample_split[i])\n",
    "        # ,max_features=max_feature[i]\n",
    "\n",
    "\n",
    "        # Split the data into training and testing sets for this fold\n",
    "        # X_train, X_test = train_features.iloc[train_index], train_features.iloc[test_index]\n",
    "        # y_train, y_test = train_scored.iloc[train_index], train_scored.iloc[test_index]\n",
    "\n",
    "        X_train = train_features\n",
    "        y_train = train_scored\n",
    "\n",
    "        X_test = val_features\n",
    "        y_test = val_scored\n",
    "\n",
    "        \n",
    "        X_train = oneHotEncoding(X_train)\n",
    "        X_test = oneHotEncoding(X_test)\n",
    "        \n",
    "        # lof_model = LocalOutlierFactor(n_neighbors=neighbour[itr], contamination=0.01)\n",
    "\n",
    "        # # Fit the model and identify outliers\n",
    "        # outlier_scores = lof_model.fit_predict(X_train)\n",
    "        # outlier_indices = X_train.index[outlier_scores == -1]\n",
    "\n",
    "        # X_train = X_train.drop(outlier_indices)\n",
    "        # y_train  = y_train.drop(outlier_indices)\n",
    "\n",
    "        # X_train = X_train.reset_index(drop=True)\n",
    "        # y_train = y_train.reset_index(drop=True)\n",
    "\n",
    "        scaler = StandardScaler()\n",
    "        scaler.fit(X_train)\n",
    "        X_train = scaler.transform(X_train)\n",
    "        X_test = scaler.transform(X_test)\n",
    "\n",
    "        # Initialize a PCA object (you can adjust the number of components)\n",
    "        pca = PCA(n_components=10)\n",
    "        pca.fit(X_train)\n",
    "        X_train = pca.transform(X_train)\n",
    "        X_test  = pca.transform(X_test)\n",
    "\n",
    "        test_columns = y_train.columns\n",
    "        loss = 0\n",
    "        loss_train = 0\n",
    "        for col in test_columns:\n",
    "            if (y_train[col].unique().shape[0]==1):\n",
    "                y_pred = [0.001 for x in range(len(X_test))]\n",
    "                y_train_pred = [0.001 for x in range(len(X_train))]\n",
    "            # Train a classifier on the transformed training data\n",
    "            else:\n",
    "                clf.fit(X_train, y_train[col])\n",
    "            \n",
    "                y_train_pred = clf.predict_proba(X_train)\n",
    "                y_train_pred = [row[1] for row in y_train_pred]\n",
    "                # Make predictions on the transformed test data\n",
    "                y_pred = clf.predict_proba(X_test)\n",
    "\n",
    "                # print(y_pred)\n",
    "                y_pred = [row[1] for row in y_pred]\n",
    "                \n",
    "                # print(y_pred)\n",
    "                # print(y_train_pred)\n",
    "            \n",
    "            loss += cross_entropy(y_pred,y_test[col].values)\n",
    "\n",
    "            loss_train += cross_entropy(y_train_pred,y_train[col].values)\n",
    "        cross_val_scores.append(loss/test_columns.shape[0])\n",
    "        train_cross_val_score.append(loss_train/test_columns.shape[0])\n",
    "\n",
    "    itr += 1\n",
    "    print(f\"---------------------------------------{itr}----------------------------------------\")\n",
    "    # Calculate the mean and standard deviation of cross-validation scores\n",
    "    print(f\"cross validation score for training : {train_cross_val_score}\")\n",
    "    print(f\"cross validation scores : {cross_val_scores}\")\n",
    "    mean_accuracy = np.mean(cross_val_scores)\n",
    "    std_accuracy = np.std(cross_val_scores)\n",
    "    print(f\"mean loss : {mean_accuracy}\")\n",
    "    print(f\"std dev of loss : {std_accuracy}\")\n",
    "    print(\"---------------------------------------------------------------------------------\")\n",
    "\n",
    "\n",
    "    avg_training.append(np.mean(train_cross_val_score))\n",
    "    avg_validation.append(np.mean(cross_val_scores))\n"
   ]
  },
  {
   "cell_type": "code",
   "execution_count": 95,
   "metadata": {},
   "outputs": [
    {
     "data": {
      "image/png": "[encoded data removed]",
      "text/plain": [
       "<Figure size 640x480 with 1 Axes>"
      ]
     },
     "metadata": {},
     "output_type": "display_data"
    }
   ],
   "source": [
    "plt.plot(min_sample_split,avg_training,label = 'training loss')\n",
    "plt.plot(min_sample_split,avg_validation,label = 'validation loss')\n",
    "plt.xlabel('Decision Tree min_sample_split')\n",
    "plt.ylabel('loss')\n",
    "plt.legend()\n",
    "plt.show()"
   ]
  },
  {
   "cell_type": "code",
   "execution_count": 101,
   "metadata": {},
   "outputs": [
    {
     "name": "stdout",
     "output_type": "stream",
     "text": [
      "training loss : 0.013947703852510871\n",
      "The testing loss : 0.06874878752627206\n"
     ]
    }
   ],
   "source": [
    "# clf = LogisticRegression(penalty = 'l1', C = 0.5, max_iter=10000,solver='liblinear')\n",
    "clf = DecisionTreeClassifier(criterion='gini',min_samples_split=0.15)\n",
    "# ,max_features=max_feature[i]\n",
    "\n",
    "\n",
    "# Split the data into training and testing sets for this fold\n",
    "# X_train, X_test = train_features.iloc[train_index], train_features.iloc[test_index]\n",
    "# y_train, y_test = train_scored.iloc[train_index], train_scored.iloc[test_index]\n",
    "\n",
    "X_train = train_features\n",
    "y_train = train_scored\n",
    "\n",
    "X_test = test_features\n",
    "y_test = test_scored\n",
    "\n",
    "\n",
    "X_train = oneHotEncoding(X_train)\n",
    "X_test = oneHotEncoding(X_test)\n",
    "\n",
    "# lof_model = LocalOutlierFactor(n_neighbors=neighbour[itr], contamination=0.01)\n",
    "\n",
    "# # Fit the model and identify outliers\n",
    "# outlier_scores = lof_model.fit_predict(X_train)\n",
    "# outlier_indices = X_train.index[outlier_scores == -1]\n",
    "\n",
    "# X_train = X_train.drop(outlier_indices)\n",
    "# y_train  = y_train.drop(outlier_indices)\n",
    "\n",
    "# X_train = X_train.reset_index(drop=True)\n",
    "# y_train = y_train.reset_index(drop=True)\n",
    "\n",
    "scaler = StandardScaler()\n",
    "scaler.fit(X_train)\n",
    "X_train = scaler.transform(X_train)\n",
    "X_test = scaler.transform(X_test)\n",
    "\n",
    "# Initialize a PCA object (you can adjust the number of components)\n",
    "pca = PCA(n_components=10)\n",
    "pca.fit(X_train)\n",
    "X_train = pca.transform(X_train)\n",
    "X_test  = pca.transform(X_test)\n",
    "\n",
    "test_columns = y_train.columns\n",
    "loss = 0\n",
    "loss_train = 0\n",
    "for col in test_columns:\n",
    "    if (y_train[col].unique().shape[0]==1):\n",
    "        y_pred = [0.001 for x in range(len(X_test))]\n",
    "        y_train_pred = [0.001 for x in range(len(X_train))]\n",
    "    # Train a classifier on the transformed training data\n",
    "    else:\n",
    "        clf.fit(X_train, y_train[col])\n",
    "    \n",
    "        y_train_pred = clf.predict_proba(X_train)\n",
    "        y_train_pred = [row[1] for row in y_train_pred]\n",
    "        # Make predictions on the transformed test data\n",
    "        y_pred = clf.predict_proba(X_test)\n",
    "\n",
    "        # print(y_pred)\n",
    "        y_pred = [row[1] for row in y_pred]\n",
    "        \n",
    "        # print(y_pred)\n",
    "        # print(y_train_pred)\n",
    "    \n",
    "    loss += cross_entropy(y_pred,y_test[col].values)\n",
    "\n",
    "    loss_train += cross_entropy(y_train_pred,y_train[col].values)\n",
    "\n",
    "print(f\"training loss : {loss_train/test_columns.shape[0]}\")\n",
    "print(f\"The testing loss : {loss/test_columns.shape[0]}\")"
   ]
  }
 ],
 "metadata": {
  "kernelspec": {
   "display_name": "Python 3",
   "language": "python",
   "name": "python3"
  },
  "language_info": {
   "codemirror_mode": {
    "name": "ipython",
    "version": 3
   },
   "file_extension": ".py",
   "mimetype": "text/x-python",
   "name": "python",
   "nbconvert_exporter": "python",
   "pygments_lexer": "ipython3",
   "version": "3.10.12"
  }
 },
 "nbformat": 4,
 "nbformat_minor": 2
}
