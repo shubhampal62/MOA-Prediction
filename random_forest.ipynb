{
 "cells": [
  {
   "cell_type": "code",
   "execution_count": 34,
   "metadata": {},
   "outputs": [],
   "source": [
    "import pandas as pd\n",
    "import numpy as np\n",
    "from sklearn.model_selection import train_test_split\n",
    "from sklearn.naive_bayes import GaussianNB\n",
    "from sklearn.metrics import accuracy_score, classification_report\n",
    "from scipy.stats import skew,boxcox\n",
    "from sklearn.model_selection import train_test_split\n",
    "from sklearn.preprocessing import StandardScaler\n",
    "import matplotlib.pyplot as plt\n",
    "from sklearn.neighbors import LocalOutlierFactor\n",
    "from sklearn.decomposition import PCA\n",
    "from sklearn.model_selection import KFold\n",
    "from sklearn.linear_model import LogisticRegression\n",
    "import matplotlib.pyplot as plt\n",
    "from sklearn.tree import DecisionTreeClassifier\n",
    "from sklearn.ensemble import RandomForestClassifier"
   ]
  },
  {
   "cell_type": "code",
   "execution_count": 35,
   "metadata": {},
   "outputs": [],
   "source": [
    "train_features = pd.read_csv('lish-moa/train_features.csv')\n",
    "train_targets = pd.read_csv('lish-moa/train_targets_scored.csv')\n",
    "train_features = train_features.drop('sig_id',axis=1)\n",
    "train_targets = train_targets.drop('sig_id',axis=1)"
   ]
  },
  {
   "cell_type": "code",
   "execution_count": 36,
   "metadata": {},
   "outputs": [],
   "source": [
    "\n",
    "train_features, test_features, train_scored, test_scored = train_test_split(train_features, train_targets, test_size=0.5, random_state=42)\n"
   ]
  },
  {
   "cell_type": "code",
   "execution_count": 37,
   "metadata": {},
   "outputs": [],
   "source": [
    "train_features = train_features.reset_index(drop=True)\n",
    "train_targets = train_targets.reset_index(drop=True)\n",
    "train_scored = train_scored.reset_index(drop=True)\n",
    "test_scored = test_scored.reset_index(drop = True)"
   ]
  },
  {
   "cell_type": "code",
   "execution_count": 38,
   "metadata": {},
   "outputs": [],
   "source": [
    "train_features = train_features[:5000]\n",
    "test_features = test_features[:5000]\n",
    "train_scored = train_scored[:5000]\n",
    "test_scored = test_scored[:5000]"
   ]
  },
  {
   "cell_type": "code",
   "execution_count": 58,
   "metadata": {},
   "outputs": [
    {
     "data": {
      "text/plain": [
       "(5000, 875)"
      ]
     },
     "execution_count": 58,
     "metadata": {},
     "output_type": "execute_result"
    }
   ],
   "source": [
    "test_features.shape"
   ]
  },
  {
   "cell_type": "code",
   "execution_count": 39,
   "metadata": {},
   "outputs": [],
   "source": [
    "def oneHotEncoding(data):\n",
    "    # performing one hot encoding on discrete features\n",
    "    discrete_features = ['cp_dose','cp_time','cp_type']\n",
    "    data = pd.get_dummies(data,columns=discrete_features,dtype=int)\n",
    "    return data "
   ]
  },
  {
   "cell_type": "code",
   "execution_count": 40,
   "metadata": {},
   "outputs": [],
   "source": [
    "def cross_entropy(predicted_probabilities,true_labels):\n",
    "    # Compute cross-entropy loss\n",
    "    epsilon = 1e-15  # A small constant to prevent numerical instability (avoid log(0))\n",
    "    predicted_probabilities = np.clip(predicted_probabilities, epsilon, 1 - epsilon)  # Clip probabilities\n",
    "    cross_entropy_loss = -np.mean(true_labels * np.log(predicted_probabilities) + (1 - true_labels) * np.log(1 - predicted_probabilities))\n",
    "    return cross_entropy_loss"
   ]
  },
  {
   "cell_type": "code",
   "execution_count": 53,
   "metadata": {},
   "outputs": [
    {
     "name": "stdout",
     "output_type": "stream",
     "text": [
      "---------------------------------------1----------------------------------------\n",
      "cross validation score for training : [0.01803911377735376, 0.01800293621369179, 0.017538347658778007]\n",
      "cross validation scores : [0.019633063378608432, 0.01962656187311918, 0.020489298142606232]\n",
      "mean loss : 0.01991630779811128\n",
      "std dev of loss : 0.000405174051947011\n",
      "---------------------------------------------------------------------------------\n",
      "---------------------------------------2----------------------------------------\n",
      "cross validation score for training : [0.01799553111739178, 0.01795184819434319, 0.017504073895366356]\n",
      "cross validation scores : [0.019592580206358037, 0.01961257001425992, 0.02032696749994383]\n",
      "mean loss : 0.019844039240187263\n",
      "std dev of loss : 0.0003415793476959826\n",
      "---------------------------------------------------------------------------------\n",
      "---------------------------------------3----------------------------------------\n",
      "cross validation score for training : [0.017994430416274267, 0.017961105341293093, 0.01747442482471229]\n",
      "cross validation scores : [0.01967184301342852, 0.019610663688717212, 0.02028238719889236]\n",
      "mean loss : 0.019854964633679365\n",
      "std dev of loss : 0.0003032636524906737\n",
      "---------------------------------------------------------------------------------\n",
      "---------------------------------------4----------------------------------------\n",
      "cross validation score for training : [0.017993557026977483, 0.017953756248850684, 0.017478524239235127]\n",
      "cross validation scores : [0.01956403996221416, 0.019727575861824286, 0.020422173675116947]\n",
      "mean loss : 0.019904596499718468\n",
      "std dev of loss : 0.00037202203965663703\n",
      "---------------------------------------------------------------------------------\n"
     ]
    }
   ],
   "source": [
    "kfold = 3\n",
    "\n",
    "# Initialize a KFold object\n",
    "kf = KFold(n_splits=kfold, shuffle=True, random_state=42)\n",
    "\n",
    "\n",
    "\n",
    "min_sample_split = [0.2,0.4,0.6,0.8]\n",
    "\n",
    "\n",
    "n_estimators = [10,30,50,70,100]\n",
    "\n",
    "max_depth = [2,4,6,10]\n",
    "\n",
    "# Initialize a list to store the cross-validation accuracies\n",
    "\n",
    "\n",
    "# Perform k-fold cross-validation with PCA\n",
    "itr = 0\n",
    "\n",
    "pc = [4,10,15,40,60,80]\n",
    "\n",
    "neighbour = [5,10,25,50,100,200,300]\n",
    "avg_training = []\n",
    "avg_validation = []\n",
    "\n",
    "for i in range(len(max_depth)):\n",
    "    cross_val_scores = [] \n",
    "    train_cross_val_score = []\n",
    "    for train_index, test_index in kf.split(train_features):\n",
    "\n",
    "\n",
    "        clf = RandomForestClassifier(criterion='entropy',n_estimators = 80,min_samples_split=0.6 , max_depth= None)\n",
    "        # ,max_features=max_feature[i]\n",
    "\n",
    "\n",
    "        # Split the data into training and testing sets for this fold\n",
    "        # X_train, X_test = train_features.iloc[train_index], train_features.iloc[test_index]\n",
    "        # y_train, y_test = train_scored.iloc[train_index], train_scored.iloc[test_index]\n",
    "\n",
    "        X_train, X_test = train_features.iloc[train_index], train_features.iloc[test_index]\n",
    "        y_train, y_test = train_scored.iloc[train_index], train_scored.iloc[test_index]\n",
    "\n",
    "        \n",
    "        X_train = oneHotEncoding(X_train)\n",
    "        X_test = oneHotEncoding(X_test)\n",
    "        \n",
    "        # lof_model = LocalOutlierFactor(n_neighbors=neighbour[itr], contamination=0.01)\n",
    "\n",
    "\n",
    "        scaler = StandardScaler()\n",
    "        scaler.fit(X_train)\n",
    "        X_train = scaler.transform(X_train)\n",
    "        X_test = scaler.transform(X_test)\n",
    "\n",
    "        # Initialize a PCA object (you can adjust the number of components)\n",
    "        pca = PCA(n_components=10)\n",
    "        pca.fit(X_train)\n",
    "        X_train = pca.transform(X_train)\n",
    "        X_test  = pca.transform(X_test)\n",
    "\n",
    "        test_columns = y_train.columns\n",
    "        loss = 0\n",
    "        loss_train = 0\n",
    "        for col in test_columns:\n",
    "            if (y_train[col].unique().shape[0]==1):\n",
    "                y_pred = [0.001 for x in range(len(X_test))]\n",
    "                y_train_pred = [0.001 for x in range(len(X_train))]\n",
    "            # Train a classifier on the transformed training data\n",
    "            else:\n",
    "                clf.fit(X_train, y_train[col])\n",
    "            \n",
    "                y_train_pred = clf.predict_proba(X_train)\n",
    "                y_train_pred = [row[1] for row in y_train_pred]\n",
    "                # Make predictions on the transformed test data\n",
    "                y_pred = clf.predict_proba(X_test)\n",
    "\n",
    "                # print(y_pred)\n",
    "                y_pred = [row[1] for row in y_pred]\n",
    "                \n",
    "                # print(y_pred)\n",
    "                # print(y_train_pred)\n",
    "            \n",
    "            loss += cross_entropy(y_pred,y_test[col].values)\n",
    "\n",
    "            loss_train += cross_entropy(y_train_pred,y_train[col].values)\n",
    "        cross_val_scores.append(loss/test_columns.shape[0])\n",
    "        train_cross_val_score.append(loss_train/test_columns.shape[0])\n",
    "\n",
    "    itr += 1\n",
    "    print(f\"---------------------------------------{itr}----------------------------------------\")\n",
    "    # Calculate the mean and standard deviation of cross-validation scores\n",
    "    print(f\"cross validation score for training : {train_cross_val_score}\")\n",
    "    print(f\"cross validation scores : {cross_val_scores}\")\n",
    "    mean_accuracy = np.mean(cross_val_scores)\n",
    "    std_accuracy = np.std(cross_val_scores)\n",
    "    print(f\"mean loss : {mean_accuracy}\")\n",
    "    print(f\"std dev of loss : {std_accuracy}\")\n",
    "    print(\"---------------------------------------------------------------------------------\")\n",
    "\n",
    "\n",
    "    avg_training.append(np.mean(train_cross_val_score))\n",
    "    avg_validation.append(np.mean(cross_val_scores))\n"
   ]
  },
  {
   "cell_type": "code",
   "execution_count": 54,
   "metadata": {},
   "outputs": [
    {
     "data": {
      "image/png": "[encoded data removed]",
      "text/plain": [
       "<Figure size 640x480 with 1 Axes>"
      ]
     },
     "metadata": {},
     "output_type": "display_data"
    }
   ],
   "source": [
    "plt.plot(max_depth,avg_training,label = 'training loss')\n",
    "plt.plot(max_depth,avg_validation,label = 'validation loss')\n",
    "plt.xlabel('random forest max_depth')\n",
    "plt.ylabel('loss')\n",
    "plt.legend()\n",
    "plt.show()"
   ]
  },
  {
   "cell_type": "code",
   "execution_count": 57,
   "metadata": {},
   "outputs": [
    {
     "name": "stdout",
     "output_type": "stream",
     "text": [
      "training loss : 0.01814324712445375\n",
      "The testing loss : 0.01983983896040321\n"
     ]
    }
   ],
   "source": [
    "# clf = LogisticRegression(penalty = 'l1', C = 0.5, max_iter=10000,solver='liblinear')\n",
    "clf = RandomForestClassifier(criterion='entropy',n_estimators = 80,min_samples_split=0.6 , max_depth= None)\n",
    "# ,max_features=max_feature[i]\n",
    "\n",
    "\n",
    "# Split the data into training and testing sets for this fold\n",
    "# X_train, X_test = train_features.iloc[train_index], train_features.iloc[test_index]\n",
    "# y_train, y_test = train_scored.iloc[train_index], train_scored.iloc[test_index]\n",
    "\n",
    "X_train = train_features\n",
    "y_train = train_scored\n",
    "\n",
    "X_test = test_features\n",
    "y_test = test_scored\n",
    "\n",
    "\n",
    "X_train = oneHotEncoding(X_train)\n",
    "X_test = oneHotEncoding(X_test)\n",
    "\n",
    "# lof_model = LocalOutlierFactor(n_neighbors=neighbour[itr], contamination=0.01)\n",
    "\n",
    "# # Fit the model and identify outliers\n",
    "# outlier_scores = lof_model.fit_predict(X_train)\n",
    "# outlier_indices = X_train.index[outlier_scores == -1]\n",
    "\n",
    "# X_train = X_train.drop(outlier_indices)\n",
    "# y_train  = y_train.drop(outlier_indices)\n",
    "\n",
    "# X_train = X_train.reset_index(drop=True)\n",
    "# y_train = y_train.reset_index(drop=True)\n",
    "\n",
    "scaler = StandardScaler()\n",
    "scaler.fit(X_train)\n",
    "X_train = scaler.transform(X_train)\n",
    "X_test = scaler.transform(X_test)\n",
    "\n",
    "# Initialize a PCA object (you can adjust the number of components)\n",
    "pca = PCA(n_components=10)\n",
    "pca.fit(X_train)\n",
    "X_train = pca.transform(X_train)\n",
    "X_test  = pca.transform(X_test)\n",
    "\n",
    "test_columns = y_train.columns\n",
    "loss = 0\n",
    "loss_train = 0\n",
    "for col in test_columns:\n",
    "    if (y_train[col].unique().shape[0]==1):\n",
    "        y_pred = [0.001 for x in range(len(X_test))]\n",
    "        y_train_pred = [0.001 for x in range(len(X_train))]\n",
    "    # Train a classifier on the transformed training data\n",
    "    else:\n",
    "        clf.fit(X_train, y_train[col])\n",
    "    \n",
    "        y_train_pred = clf.predict_proba(X_train)\n",
    "        y_train_pred = [row[1] for row in y_train_pred]\n",
    "        # Make predictions on the transformed test data\n",
    "        y_pred = clf.predict_proba(X_test)\n",
    "\n",
    "        # print(y_pred)\n",
    "        y_pred = [row[1] for row in y_pred]\n",
    "        \n",
    "        # print(y_pred)\n",
    "        # print(y_train_pred)\n",
    "    \n",
    "    loss += cross_entropy(y_pred,y_test[col].values)\n",
    "\n",
    "    loss_train += cross_entropy(y_train_pred,y_train[col].values)\n",
    "\n",
    "print(f\"training loss : {loss_train/test_columns.shape[0]}\")\n",
    "print(f\"The testing loss : {loss/test_columns.shape[0]}\")"
   ]
  }
 ],
 "metadata": {
  "kernelspec": {
   "display_name": "Python 3",
   "language": "python",
   "name": "python3"
  },
  "language_info": {
   "codemirror_mode": {
    "name": "ipython",
    "version": 3
   },
   "file_extension": ".py",
   "mimetype": "text/x-python",
   "name": "python",
   "nbconvert_exporter": "python",
   "pygments_lexer": "ipython3",
   "version": "3.10.12"
  }
 },
 "nbformat": 4,
 "nbformat_minor": 2
}
